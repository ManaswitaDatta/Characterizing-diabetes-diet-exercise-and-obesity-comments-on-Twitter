{
 "cells": [
  {
   "cell_type": "code",
   "execution_count": 1,
   "metadata": {},
   "outputs": [],
   "source": [
    "import re\n",
    "import numpy as np\n",
    "import pandas as pd\n",
    "from pprint import pprint\n",
    "import gensim\n",
    "import gensim.corpora as corpora\n",
    "from gensim.utils import simple_preprocess\n",
    "from gensim.models import CoherenceModel\n",
    "import spacy\n",
    "import matplotlib.pyplot as plt"
   ]
  },
  {
   "cell_type": "code",
   "execution_count": 2,
   "metadata": {},
   "outputs": [
    {
     "name": "stdout",
     "output_type": "stream",
     "text": [
      "104806\n"
     ]
    },
    {
     "data": {
      "text/plain": [
       "0    @PabloGomez1968 @Mx_Diputados 2. Como el cánce...\n",
       "1    RT @MarcusSaemann: The beneficial short‐term e...\n",
       "2    @valee_noro A mi según solo me van a heredar l...\n",
       "3    RT @cuidardiabetes: 📆Hace 100 años un día como...\n",
       "4    RT @josueordonezl: Estimado @JorgeWated saludo...\n",
       "Name: Text, dtype: object"
      ]
     },
     "execution_count": 2,
     "metadata": {},
     "output_type": "execute_result"
    }
   ],
   "source": [
    "df = pd.read_csv('data.csv').dropna(subset=['Text'])\n",
    "\n",
    "print(len(df.index))\n",
    "df['Text'].head()\n"
   ]
  },
  {
   "cell_type": "code",
   "execution_count": 3,
   "metadata": {},
   "outputs": [
    {
     "data": {
      "text/plain": [
       "0    . Como el cncer, la diabetes, la insuficiencia...\n",
       "1    : The beneficial shortterm effects of a highpr...\n",
       "2          A mi segn solo me van a heredar la diabetes\n",
       "3    : Hace aos un da como hoy comenzaban los exper...\n",
       "4    : Estimado saludos cordiales, por favor ayudem...\n",
       "Name: clean_text, dtype: object"
      ]
     },
     "execution_count": 3,
     "metadata": {},
     "output_type": "execute_result"
    }
   ],
   "source": [
    "import preprocessor as p\n",
    "\n",
    "df['clean_text'] = df['Text'].apply(lambda text: p.clean(str(text)))\n",
    "\n",
    "df['clean_text'].head()"
   ]
  },
  {
   "cell_type": "code",
   "execution_count": 4,
   "metadata": {},
   "outputs": [],
   "source": [
    "df.sort_values(\"Text\", inplace = True)\n",
    "# dropping ALL duplicte values\n",
    "df.drop_duplicates(subset =\"Text\",keep = False, inplace = True)"
   ]
  },
  {
   "cell_type": "code",
   "execution_count": 5,
   "metadata": {},
   "outputs": [
    {
     "data": {
      "text/plain": [
       "86155                  ! lose weight fast without exercise\n",
       "1990     ! ya estamos en vivo!sintoniza por en san este...\n",
       "64567    !urgent!need a+ blood grouprequirement date:- ...\n",
       "42760                                                  \" \"\n",
       "53069    \" aww , but that blush of yours just makes you...\n",
       "Name: clean_text, dtype: object"
      ]
     },
     "execution_count": 5,
     "metadata": {},
     "output_type": "execute_result"
    }
   ],
   "source": [
    "df['clean_text'] = df['clean_text'].apply(lambda text: text.lower())\n",
    "\n",
    "df['clean_text'].head()"
   ]
  },
  {
   "cell_type": "code",
   "execution_count": 6,
   "metadata": {},
   "outputs": [
    {
     "data": {
      "text/plain": [
       "86155                  ! lose weight fast without exercise\n",
       "1990     ! ya estamos en vivo!sintoniza por en san este...\n",
       "64567    !urgent!need a+ blood grouprequirement date:- ...\n",
       "42760                                                  \" \"\n",
       "53069    \" aww , but that blush of yours just makes you...\n",
       "Name: clean_text, dtype: object"
      ]
     },
     "execution_count": 6,
     "metadata": {},
     "output_type": "execute_result"
    }
   ],
   "source": [
    "import re\n",
    "\n",
    "def remove_contractions(text):\n",
    "    text = re.sub(r'’', '\\'', text)\n",
    "    \n",
    "    text = re.sub(r'won\\'t', 'will not', text)\n",
    "    text = re.sub(r'can\\'t', 'can not', text)\n",
    "    \n",
    "    text = re.sub(r'\\'s', ' is', text)\n",
    "    text = re.sub(r'\\'m', ' am', text)\n",
    "    text = re.sub(r'\\'re', ' are', text)\n",
    "    text = re.sub(r'\\'ve', ' have', text)\n",
    "    text = re.sub(r'\\'ll', ' will', text)\n",
    "    text = re.sub(r'\\'d', ' would', text)\n",
    "    text = re.sub(r'\\'t', ' not', text)\n",
    "    text = re.sub(r'n\\'t', ' not', text)\n",
    "    \n",
    "    return text\n",
    "\n",
    "df['clean_text'] = df['clean_text'].apply(remove_contractions)\n",
    "\n",
    "df['clean_text'].head()"
   ]
  },
  {
   "cell_type": "code",
   "execution_count": 7,
   "metadata": {},
   "outputs": [
    {
     "name": "stderr",
     "output_type": "stream",
     "text": [
      "<ipython-input-7-5c51cfc4f7e5>:1: FutureWarning: The default value of regex will change from True to False in a future version.\n",
      "  df['clean_text'] = df['clean_text'].str.replace('[^\\w\\s]', '')\n"
     ]
    },
    {
     "data": {
      "text/plain": [
       "86155                    lose weight fast without exercise\n",
       "1990      ya estamos en vivosintoniza por en san esteba...\n",
       "64567    urgentneed a blood grouprequirement date th ma...\n",
       "42760                                                     \n",
       "53069     aww  but that blush of yours just makes you a...\n",
       "Name: clean_text, dtype: object"
      ]
     },
     "execution_count": 7,
     "metadata": {},
     "output_type": "execute_result"
    }
   ],
   "source": [
    "df['clean_text'] = df['clean_text'].str.replace('[^\\w\\s]', '')\n",
    "\n",
    "df['clean_text'].head()"
   ]
  },
  {
   "cell_type": "code",
   "execution_count": 8,
   "metadata": {},
   "outputs": [
    {
     "data": {
      "text/plain": [
       "86155                    lose weight fast without exercise\n",
       "1990     ya estamos en vivosintoniza por en san esteban...\n",
       "64567    urgentneed a blood grouprequirement date th ma...\n",
       "42760                                                     \n",
       "53069    aww  but that blush of yours just makes you a ...\n",
       "Name: clean_text, dtype: object"
      ]
     },
     "execution_count": 8,
     "metadata": {},
     "output_type": "execute_result"
    }
   ],
   "source": [
    "# Remove whitespaces.\n",
    "\n",
    "df['clean_text'] = df['clean_text'].apply(lambda text: str(text).strip())\n",
    "\n",
    "df['clean_text'].head()"
   ]
  },
  {
   "cell_type": "code",
   "execution_count": 9,
   "metadata": {},
   "outputs": [
    {
     "name": "stdout",
     "output_type": "stream",
     "text": [
      "43097\n"
     ]
    },
    {
     "data": {
      "text/plain": [
       "86155                    lose weight fast without exercise\n",
       "1990     ya estamos en vivosintoniza por en san esteban...\n",
       "64567    urgentneed a blood grouprequirement date th ma...\n",
       "53069    aww  but that blush of yours just makes you a ...\n",
       "75105    you probably know on some level that what diet...\n",
       "Name: clean_text, dtype: object"
      ]
     },
     "execution_count": 9,
     "metadata": {},
     "output_type": "execute_result"
    }
   ],
   "source": [
    "# Remove empty texts.\n",
    "\n",
    "df = df.drop(df[df['clean_text'] == ''].index)\n",
    "\n",
    "print(len(df.index))\n",
    "df['clean_text'].head()"
   ]
  },
  {
   "cell_type": "code",
   "execution_count": 10,
   "metadata": {},
   "outputs": [
    {
     "data": {
      "text/plain": [
       "86155                    lose weight fast without exercise\n",
       "1990                                 ya en en san mas loma\n",
       "64567             a blood date th may location is diabetes\n",
       "53069    but that blush of yours just you a thousand ti...\n",
       "75105    you probably know on some level that what of y...\n",
       "Name: clean_text, dtype: object"
      ]
     },
     "execution_count": 10,
     "metadata": {},
     "output_type": "execute_result"
    }
   ],
   "source": [
    "# Remove non-English words.\n",
    "from nltk.corpus import words\n",
    "words = set(words.words())\n",
    "\n",
    "df['clean_text'] = df['clean_text'].apply(lambda text: ' '.join(word for word in text.split() if word in words))\n",
    "\n",
    "df['clean_text'].head()"
   ]
  },
  {
   "cell_type": "code",
   "execution_count": 11,
   "metadata": {},
   "outputs": [],
   "source": [
    "from nltk.corpus import stopwords\n",
    "stop_words = stopwords.words('english')\n",
    "stop_words.extend(['from', 'subject', 're', 'edu', 'use'])"
   ]
  },
  {
   "cell_type": "code",
   "execution_count": 12,
   "metadata": {},
   "outputs": [],
   "source": [
    "def sent_to_words(sentences):\n",
    "   for sentence in sentences:\n",
    "      yield(gensim.utils.simple_preprocess(str(sentence), deacc=True))\n",
    "data_words = list(sent_to_words(df['clean_text']))"
   ]
  },
  {
   "cell_type": "code",
   "execution_count": 13,
   "metadata": {},
   "outputs": [],
   "source": [
    "bigram = gensim.models.Phrases(data_words, min_count=5, threshold=100)\n",
    "trigram = gensim.models.Phrases(bigram[data_words], threshold=100)\n",
    "bigram_mod = gensim.models.phrases.Phraser(bigram)\n",
    "trigram_mod = gensim.models.phrases.Phraser(trigram)"
   ]
  },
  {
   "cell_type": "code",
   "execution_count": 14,
   "metadata": {},
   "outputs": [],
   "source": [
    "def remove_stopwords(texts):\n",
    "   return [[word for word in simple_preprocess(str(doc)) \n",
    "   if word not in stop_words] for doc in texts]\n",
    "def make_bigrams(texts):\n",
    "   return [bigram_mod[doc] for doc in texts]\n",
    "def make_trigrams(texts):\n",
    "   return [trigram_mod[bigram_mod[doc]] for doc in texts]\n",
    "def lemmatization(texts, allowed_postags=['NOUN', 'ADJ', 'VERB', 'ADV']):\n",
    "   texts_out = []\n",
    "   for sent in texts:\n",
    "      doc = nlp(\" \".join(sent))\n",
    "      texts_out.append([token.lemma_ for token in doc if token.pos_ in allowed_postags])\n",
    "   return texts_out"
   ]
  },
  {
   "cell_type": "code",
   "execution_count": 15,
   "metadata": {},
   "outputs": [],
   "source": [
    "data_words_nostops = remove_stopwords(data_words)\n",
    "\n",
    "# Form Bigrams\n",
    "data_words_bigrams = make_bigrams(data_words_nostops)\n",
    "\n",
    "# Initialize spacy 'en' model, keeping only tagger component (for efficiency)\n",
    "#python3 -m spacy download en\n",
    "nlp = spacy.load('en_core_web_sm', disable=['parser', 'ner'])\n",
    "\n",
    "# Do lemmatization keeping only noun, adj, vb, adv\n",
    "data_lemmatized = lemmatization(data_words_bigrams, allowed_postags=['NOUN', 'ADJ', 'VERB', 'ADV'])"
   ]
  },
  {
   "cell_type": "code",
   "execution_count": 16,
   "metadata": {},
   "outputs": [],
   "source": [
    "def get_top_n_words(n_top_words, count_vectorizer, text_data):\n",
    "    '''\n",
    "    returns a tuple of the top n words in a sample and their \n",
    "    accompanying counts, given a CountVectorizer object and text sample\n",
    "    '''\n",
    "    vectorized_headlines = count_vectorizer.fit_transform(text_data.values)\n",
    "    vectorized_total = np.sum(vectorized_headlines, axis=0)\n",
    "    word_indices = np.flip(np.argsort(vectorized_total)[0,:], 1)\n",
    "    word_values = np.flip(np.sort(vectorized_total)[0,:],1)\n",
    "    \n",
    "    word_vectors = np.zeros((n_top_words, vectorized_headlines.shape[1]))\n",
    "    for i in range(n_top_words):\n",
    "        word_vectors[i,word_indices[0,i]] = 1\n",
    "\n",
    "    words = [word[0].encode('ascii').decode('utf-8') for \n",
    "             word in count_vectorizer.inverse_transform(word_vectors)]\n",
    "\n",
    "    return (words, word_values[0,:n_top_words].tolist()[0])"
   ]
  },
  {
   "cell_type": "code",
   "execution_count": 17,
   "metadata": {},
   "outputs": [
    {
     "data": {
      "image/png": "[encoded data removed]",
      "text/plain": [
       "<Figure size 1152x576 with 1 Axes>"
      ]
     },
     "metadata": {
      "needs_background": "light"
     },
     "output_type": "display_data"
    }
   ],
   "source": [
    "from sklearn.feature_extraction.text import CountVectorizer\n",
    "count_vectorizer = CountVectorizer(stop_words='english')\n",
    "words, word_values = get_top_n_words(n_top_words=15,\n",
    "                                     count_vectorizer=count_vectorizer, \n",
    "                                     text_data=df['clean_text'])\n",
    "\n",
    "fig, ax = plt.subplots(figsize=(16,8))\n",
    "ax.bar(range(len(words)), word_values);\n",
    "ax.set_xticks(range(len(words)));\n",
    "ax.set_xticklabels(words, rotation='vertical');\n",
    "ax.set_title('Top words in health dataset (excluding stop words)');\n",
    "ax.set_xlabel('Word');\n",
    "ax.set_ylabel('Number of occurences');\n",
    "plt.show()"
   ]
  },
  {
   "cell_type": "code",
   "execution_count": 18,
   "metadata": {},
   "outputs": [],
   "source": [
    "id2word = corpora.Dictionary(data_lemmatized)\n",
    "texts = data_lemmatized\n",
    "corpus = [id2word.doc2bow(text) for text in texts]"
   ]
  },
  {
   "cell_type": "code",
   "execution_count": 19,
   "metadata": {},
   "outputs": [],
   "source": [
    "lsi_model = gensim.models.lsimodel.LsiModel(\n",
    "   corpus=corpus, id2word=id2word, num_topics=50,chunksize=100\n",
    ")"
   ]
  },
  {
   "cell_type": "code",
   "execution_count": 20,
   "metadata": {},
   "outputs": [
    {
     "name": "stdout",
     "output_type": "stream",
     "text": [
      "[(0,\n",
      "  '0.949*\"fat\" + 0.159*\"ass\" + 0.144*\"get\" + 0.071*\"diet\" + 0.063*\"people\" + '\n",
      "  '0.061*\"big\" + 0.056*\"do\" + 0.055*\"go\" + 0.045*\"eat\" + 0.042*\"say\"'),\n",
      " (1,\n",
      "  '0.922*\"diet\" + 0.150*\"get\" + -0.145*\"fat\" + 0.130*\"exercise\" + 0.114*\"eat\" '\n",
      "  '+ 0.087*\"go\" + 0.079*\"coke\" + 0.066*\"good\" + 0.058*\"do\" + 0.057*\"day\"'),\n",
      " (2,\n",
      "  '0.798*\"exercise\" + 0.349*\"get\" + -0.274*\"diet\" + 0.270*\"diabete\" + '\n",
      "  '-0.108*\"fat\" + 0.083*\"people\" + 0.080*\"go\" + 0.076*\"do\" + 0.076*\"good\" + '\n",
      "  '0.059*\"time\"'),\n",
      " (3,\n",
      "  '-0.849*\"diabete\" + 0.428*\"exercise\" + -0.188*\"get\" + -0.155*\"type\" + '\n",
      "  '-0.097*\"diabetes\" + -0.072*\"risk\" + -0.069*\"people\" + 0.044*\"diet\" + '\n",
      "  '0.039*\"fat\" + -0.028*\"know\"'),\n",
      " (4,\n",
      "  '-0.881*\"get\" + 0.320*\"diabete\" + 0.289*\"exercise\" + 0.100*\"fat\" + '\n",
      "  '0.080*\"diet\" + 0.067*\"people\" + 0.066*\"type\" + 0.035*\"risk\" + 0.029*\"eat\" + '\n",
      "  '0.025*\"health\"'),\n",
      " (5,\n",
      "  '-0.691*\"people\" + -0.396*\"diabetes\" + -0.243*\"eat\" + 0.242*\"diabete\" + '\n",
      "  '-0.207*\"do\" + 0.170*\"ass\" + 0.166*\"exercise\" + -0.160*\"type\" + -0.119*\"go\" '\n",
      "  '+ 0.115*\"diet\"'),\n",
      " (6,\n",
      "  '-0.659*\"eat\" + -0.475*\"go\" + 0.361*\"diabetes\" + 0.201*\"people\" + '\n",
      "  '-0.198*\"do\" + 0.194*\"type\" + 0.132*\"diet\" + 0.119*\"exercise\" + -0.072*\"day\" '\n",
      "  '+ -0.067*\"food\"'),\n",
      " (7,\n",
      "  '-0.658*\"diabetes\" + 0.559*\"people\" + -0.295*\"type\" + -0.251*\"go\" + '\n",
      "  '-0.168*\"ass\" + -0.155*\"good\" + 0.104*\"diabete\" + -0.086*\"eat\" + '\n",
      "  '-0.057*\"risk\" + -0.041*\"day\"'),\n",
      " (8,\n",
      "  '-0.783*\"go\" + 0.567*\"eat\" + -0.127*\"people\" + 0.082*\"good\" + '\n",
      "  '0.067*\"diabetes\" + 0.063*\"do\" + 0.060*\"healthy\" + 0.055*\"food\" + '\n",
      "  '-0.052*\"say\" + -0.050*\"back\"'),\n",
      " (9,\n",
      "  '-0.843*\"do\" + -0.310*\"ass\" + 0.267*\"eat\" + -0.182*\"know\" + 0.147*\"go\" + '\n",
      "  '0.107*\"people\" + -0.090*\"say\" + 0.082*\"fat\" + -0.070*\"want\" + '\n",
      "  '-0.062*\"think\"'),\n",
      " (10,\n",
      "  '0.873*\"ass\" + 0.273*\"people\" + -0.253*\"do\" + -0.185*\"good\" + -0.135*\"fat\" + '\n",
      "  '0.128*\"eat\" + -0.067*\"body\" + -0.048*\"say\" + -0.038*\"look\" + -0.033*\"feel\"'),\n",
      " (11,\n",
      "  '-0.919*\"good\" + 0.199*\"diabetes\" + -0.189*\"ass\" + 0.108*\"eat\" + '\n",
      "  '-0.095*\"health\" + 0.093*\"exercise\" + 0.076*\"do\" + 0.060*\"fat\" + '\n",
      "  '-0.058*\"news\" + -0.057*\"make\"'),\n",
      " (12,\n",
      "  '-0.883*\"make\" + 0.162*\"do\" + -0.145*\"time\" + 0.131*\"good\" + 0.115*\"people\" '\n",
      "  '+ -0.108*\"day\" + -0.106*\"see\" + 0.105*\"go\" + -0.095*\"say\" + -0.087*\"know\"'),\n",
      " (13,\n",
      "  '-0.767*\"say\" + -0.314*\"think\" + 0.292*\"make\" + -0.235*\"know\" + 0.216*\"do\" + '\n",
      "  '-0.162*\"see\" + -0.115*\"time\" + -0.104*\"really\" + 0.102*\"go\" + '\n",
      "  '0.084*\"people\"'),\n",
      " (14,\n",
      "  '-0.678*\"know\" + 0.436*\"say\" + -0.338*\"need\" + -0.252*\"time\" + -0.196*\"day\" '\n",
      "  '+ 0.178*\"make\" + 0.126*\"do\" + 0.090*\"diabetes\" + -0.087*\"really\" + '\n",
      "  '0.070*\"good\"'),\n",
      " (15,\n",
      "  '-0.711*\"day\" + 0.503*\"know\" + -0.279*\"time\" + -0.150*\"need\" + 0.130*\"make\" '\n",
      "  '+ -0.127*\"think\" + -0.119*\"take\" + 0.087*\"say\" + 0.082*\"eat\" + '\n",
      "  '-0.076*\"work\"'),\n",
      " (16,\n",
      "  '-0.783*\"think\" + 0.359*\"say\" + 0.264*\"day\" + 0.239*\"need\" + -0.195*\"time\" + '\n",
      "  '-0.174*\"see\" + 0.091*\"lose\" + -0.088*\"big\" + 0.086*\"weight\" + 0.074*\"want\"'),\n",
      " (17,\n",
      "  '0.617*\"need\" + -0.475*\"time\" + 0.402*\"think\" + -0.392*\"see\" + 0.102*\"make\" '\n",
      "  '+ -0.082*\"know\" + -0.081*\"take\" + 0.075*\"weight\" + 0.072*\"help\" + '\n",
      "  '0.064*\"lose\"'),\n",
      " (18,\n",
      "  '-0.587*\"time\" + 0.515*\"day\" + -0.482*\"need\" + 0.274*\"know\" + 0.155*\"think\" '\n",
      "  '+ 0.083*\"want\" + -0.080*\"say\" + -0.073*\"take\" + 0.057*\"today\" + '\n",
      "  '-0.052*\"health\"'),\n",
      " (19,\n",
      "  '-0.807*\"see\" + 0.303*\"time\" + -0.282*\"need\" + -0.179*\"want\" + 0.157*\"know\" '\n",
      "  '+ -0.135*\"lose\" + 0.121*\"say\" + -0.103*\"weight\" + 0.102*\"day\" + '\n",
      "  '-0.098*\"food\"')]\n"
     ]
    }
   ],
   "source": [
    "pprint(lsi_model.print_topics())\n",
    "doc_lsi = lsi_model[corpus]"
   ]
  },
  {
   "cell_type": "code",
   "execution_count": 21,
   "metadata": {},
   "outputs": [
    {
     "name": "stdout",
     "output_type": "stream",
     "text": [
      "\n",
      "Coherence Score:  0.26113315583947405\n"
     ]
    }
   ],
   "source": [
    "#print('\\nPerplexity: ', lsi_model.log_perplexity(corpus))  # a measure of how good the model is. lower the better.\n",
    "\n",
    "# Compute Coherence Score\n",
    "coherence_model_lsi = CoherenceModel(model=lsi_model, texts=data_lemmatized, dictionary=id2word, coherence='c_v')\n",
    "coherence_lsi = coherence_model_lsi.get_coherence()\n",
    "print('\\nCoherence Score: ', coherence_lsi)"
   ]
  },
  {
   "cell_type": "code",
   "execution_count": 22,
   "metadata": {},
   "outputs": [],
   "source": [
    "def compute_coherence_values(dictionary, corpus, texts, limit, start=2, step=1):\n",
    "    \"\"\"\n",
    "    Compute c_v coherence for various number of topics\n",
    "\n",
    "    Parameters:\n",
    "    ----------\n",
    "    dictionary : Gensim dictionary\n",
    "    corpus : Gensim corpus\n",
    "    texts : List of input texts\n",
    "    limit : Max num of topics\n",
    "\n",
    "    Returns:\n",
    "    -------\n",
    "    model_list : List of LDA topic models\n",
    "    coherence_values : Coherence values corresponding to the LDA model with respective number of topics\n",
    "    \"\"\"\n",
    "    coherence_values = []\n",
    "    model_list = []\n",
    "    for num_topics in range(start, limit, step):\n",
    "        model = gensim.models.lsimodel.LsiModel(corpus=corpus, num_topics=num_topics, id2word=id2word)\n",
    "        model_list.append(model)\n",
    "        coherencemodel = CoherenceModel(model=model, texts=texts, dictionary=dictionary, coherence='c_v')\n",
    "        coherence_values.append(coherencemodel.get_coherence())\n",
    "\n",
    "    return model_list, coherence_values"
   ]
  },
  {
   "cell_type": "code",
   "execution_count": 28,
   "metadata": {},
   "outputs": [],
   "source": [
    "model_list, coherence_values = compute_coherence_values(dictionary=id2word, corpus=corpus, texts=data_lemmatized, start=2, limit=500, step=20)"
   ]
  },
  {
   "cell_type": "code",
   "execution_count": 29,
   "metadata": {},
   "outputs": [
    {
     "data": {
      "image/png": "[encoded data removed]",
      "text/plain": [
       "<Figure size 432x288 with 1 Axes>"
      ]
     },
     "metadata": {
      "needs_background": "light"
     },
     "output_type": "display_data"
    }
   ],
   "source": [
    "limit=500; start=2; step=20;\n",
    "x = range(start, limit, step)\n",
    "plt.plot(x, coherence_values)\n",
    "plt.xlabel(\"Num Topics\")\n",
    "plt.ylabel(\"Coherence score\")\n",
    "plt.legend((\"coherence_values\"), loc='best')\n",
    "plt.show()"
   ]
  },
  {
   "cell_type": "code",
   "execution_count": 30,
   "metadata": {},
   "outputs": [
    {
     "name": "stdout",
     "output_type": "stream",
     "text": [
      "Num Topics = 2  has Coherence Value of 0.2342\n",
      "Num Topics = 22  has Coherence Value of 0.2735\n",
      "Num Topics = 42  has Coherence Value of 0.2746\n",
      "Num Topics = 62  has Coherence Value of 0.257\n",
      "Num Topics = 82  has Coherence Value of 0.2634\n",
      "Num Topics = 102  has Coherence Value of 0.2711\n",
      "Num Topics = 122  has Coherence Value of 0.2949\n",
      "Num Topics = 142  has Coherence Value of 0.3125\n",
      "Num Topics = 162  has Coherence Value of 0.3328\n",
      "Num Topics = 182  has Coherence Value of 0.3403\n",
      "Num Topics = 202  has Coherence Value of 0.3623\n",
      "Num Topics = 222  has Coherence Value of 0.3688\n",
      "Num Topics = 242  has Coherence Value of 0.3868\n",
      "Num Topics = 262  has Coherence Value of 0.4041\n",
      "Num Topics = 282  has Coherence Value of 0.4136\n",
      "Num Topics = 302  has Coherence Value of 0.4244\n",
      "Num Topics = 322  has Coherence Value of 0.438\n",
      "Num Topics = 342  has Coherence Value of 0.4484\n",
      "Num Topics = 362  has Coherence Value of 0.4602\n",
      "Num Topics = 382  has Coherence Value of 0.4697\n",
      "Num Topics = 402  has Coherence Value of 0.479\n",
      "Num Topics = 422  has Coherence Value of 0.4889\n",
      "Num Topics = 442  has Coherence Value of 0.4941\n",
      "Num Topics = 462  has Coherence Value of 0.5032\n",
      "Num Topics = 482  has Coherence Value of 0.5112\n"
     ]
    }
   ],
   "source": [
    "for m, cv in zip(x, coherence_values):\n",
    "    print(\"Num Topics =\", m, \" has Coherence Value of\", round(cv, 4))"
   ]
  },
  {
   "cell_type": "code",
   "execution_count": 26,
   "metadata": {},
   "outputs": [
    {
     "name": "stdout",
     "output_type": "stream",
     "text": [
      "[(0,\n",
      "  '0.949*\"fat\" + 0.160*\"ass\" + 0.144*\"get\" + 0.071*\"diet\" + 0.063*\"people\" + '\n",
      "  '0.061*\"big\" + 0.055*\"do\" + 0.055*\"go\" + 0.044*\"eat\" + 0.042*\"say\"'),\n",
      " (1,\n",
      "  '0.922*\"diet\" + 0.150*\"get\" + -0.144*\"fat\" + 0.129*\"exercise\" + 0.113*\"eat\" '\n",
      "  '+ 0.087*\"go\" + 0.079*\"coke\" + 0.066*\"good\" + 0.057*\"do\" + 0.057*\"day\"'),\n",
      " (2,\n",
      "  '0.793*\"exercise\" + 0.351*\"get\" + 0.284*\"diabete\" + -0.273*\"diet\" + '\n",
      "  '-0.108*\"fat\" + 0.083*\"people\" + 0.080*\"go\" + 0.076*\"do\" + 0.076*\"good\" + '\n",
      "  '0.058*\"time\"'),\n",
      " (3,\n",
      "  '-0.854*\"diabete\" + 0.433*\"exercise\" + -0.171*\"get\" + -0.148*\"type\" + '\n",
      "  '-0.094*\"diabetes\" + -0.069*\"risk\" + -0.065*\"people\" + 0.038*\"diet\" + '\n",
      "  '0.035*\"fat\" + -0.027*\"la\"'),\n",
      " (4,\n",
      "  '-0.884*\"get\" + 0.310*\"diabete\" + 0.296*\"exercise\" + 0.101*\"fat\" + '\n",
      "  '0.082*\"diet\" + 0.062*\"people\" + 0.059*\"type\" + 0.033*\"risk\" + 0.026*\"eat\" + '\n",
      "  '0.024*\"good\"'),\n",
      " (5,\n",
      "  '-0.672*\"people\" + -0.426*\"diabetes\" + -0.237*\"eat\" + 0.234*\"diabete\" + '\n",
      "  '-0.205*\"do\" + 0.189*\"ass\" + -0.169*\"type\" + 0.164*\"exercise\" + -0.126*\"go\" '\n",
      "  '+ 0.114*\"diet\"'),\n",
      " (6,\n",
      "  '0.712*\"diabetes\" + -0.417*\"eat\" + 0.323*\"type\" + -0.238*\"people\" + '\n",
      "  '-0.219*\"go\" + -0.157*\"do\" + 0.121*\"ass\" + 0.100*\"good\" + -0.083*\"diabete\" + '\n",
      "  '0.079*\"exercise\"'),\n",
      " (7,\n",
      "  '0.537*\"people\" + -0.525*\"go\" + -0.486*\"eat\" + -0.241*\"diabetes\" + '\n",
      "  '-0.216*\"ass\" + 0.112*\"diet\" + -0.112*\"do\" + 0.095*\"exercise\" + '\n",
      "  '-0.087*\"good\" + -0.085*\"type\"'),\n",
      " (8,\n",
      "  '-0.761*\"go\" + 0.598*\"eat\" + -0.135*\"people\" + 0.081*\"do\" + 0.074*\"good\" + '\n",
      "  '0.063*\"healthy\" + 0.058*\"food\" + 0.054*\"diabetes\" + -0.047*\"say\" + '\n",
      "  '-0.047*\"back\"'),\n",
      " (9,\n",
      "  '-0.901*\"ass\" + -0.237*\"people\" + -0.230*\"do\" + 0.165*\"fat\" + 0.110*\"good\" + '\n",
      "  '0.094*\"go\" + -0.069*\"know\" + 0.059*\"eat\" + 0.056*\"body\" + 0.046*\"diabetes\"'),\n",
      " (10,\n",
      "  '-0.847*\"do\" + 0.292*\"eat\" + 0.253*\"people\" + 0.201*\"ass\" + -0.176*\"know\" + '\n",
      "  '0.113*\"go\" + -0.098*\"say\" + -0.067*\"want\" + 0.057*\"get\" + -0.054*\"really\"'),\n",
      " (11,\n",
      "  '-0.933*\"good\" + 0.182*\"diabetes\" + 0.108*\"eat\" + -0.100*\"ass\" + '\n",
      "  '0.097*\"exercise\" + 0.089*\"do\" + -0.083*\"health\" + -0.078*\"make\" + '\n",
      "  '-0.060*\"news\" + 0.055*\"diet\"'),\n",
      " (12,\n",
      "  '-0.897*\"make\" + 0.160*\"do\" + 0.150*\"good\" + -0.123*\"time\" + 0.115*\"people\" '\n",
      "  '+ 0.099*\"go\" + -0.099*\"day\" + -0.094*\"see\" + -0.087*\"know\" + -0.084*\"say\"'),\n",
      " (13,\n",
      "  '-0.771*\"say\" + -0.323*\"think\" + 0.268*\"make\" + -0.235*\"know\" + 0.222*\"do\" + '\n",
      "  '-0.165*\"see\" + -0.103*\"time\" + 0.103*\"go\" + 0.089*\"people\" + 0.086*\"good\"'),\n",
      " (14,\n",
      "  '-0.822*\"know\" + 0.360*\"say\" + -0.241*\"need\" + 0.172*\"think\" + 0.146*\"do\" + '\n",
      "  '-0.138*\"time\" + 0.132*\"make\" + 0.085*\"diabetes\" + -0.068*\"weight\" + '\n",
      "  '-0.063*\"lose\"'),\n",
      " (15,\n",
      "  '-0.666*\"day\" + -0.328*\"think\" + -0.325*\"time\" + 0.303*\"say\" + 0.261*\"know\" '\n",
      "  '+ -0.204*\"need\" + 0.163*\"make\" + -0.114*\"take\" + -0.109*\"big\" + '\n",
      "  '-0.096*\"see\"'),\n",
      " (16,\n",
      "  '0.769*\"think\" + -0.457*\"day\" + -0.328*\"say\" + -0.152*\"need\" + 0.108*\"see\" + '\n",
      "  '0.083*\"big\" + 0.081*\"know\" + -0.076*\"lose\" + -0.062*\"people\" + '\n",
      "  '-0.057*\"weight\"'),\n",
      " (17,\n",
      "  '-0.634*\"need\" + 0.513*\"see\" + 0.440*\"time\" + -0.245*\"think\" + -0.110*\"help\" '\n",
      "  '+ -0.109*\"weight\" + -0.100*\"lose\" + 0.095*\"big\" + -0.081*\"make\" + '\n",
      "  '-0.062*\"want\"'),\n",
      " (18,\n",
      "  '-0.520*\"need\" + 0.507*\"day\" + -0.499*\"time\" + 0.284*\"know\" + 0.198*\"think\" '\n",
      "  '+ -0.190*\"big\" + -0.127*\"see\" + -0.098*\"take\" + -0.078*\"help\" + '\n",
      "  '-0.050*\"body\"'),\n",
      " (19,\n",
      "  '-0.736*\"see\" + 0.461*\"time\" + -0.245*\"want\" + -0.189*\"need\" + -0.185*\"lose\" '\n",
      "  '+ -0.155*\"weight\" + 0.138*\"big\" + 0.134*\"say\" + 0.119*\"know\" + '\n",
      "  '0.063*\"think\"')]\n"
     ]
    }
   ],
   "source": [
    "# Select the model and print the topics\n",
    "optimal_model = model_list[3]\n",
    "model_topics = optimal_model.show_topics(formatted=False)\n",
    "pprint(optimal_model.print_topics(num_words=10))"
   ]
  },
  {
   "cell_type": "code",
   "execution_count": null,
   "metadata": {},
   "outputs": [],
   "source": []
  }
 ],
 "metadata": {
  "kernelspec": {
   "display_name": "Python 3",
   "language": "python",
   "name": "python3"
  },
  "language_info": {
   "codemirror_mode": {
    "name": "ipython",
    "version": 3
   },
   "file_extension": ".py",
   "mimetype": "text/x-python",
   "name": "python",
   "nbconvert_exporter": "python",
   "pygments_lexer": "ipython3",
   "version": "3.8.6"
  }
 },
 "nbformat": 4,
 "nbformat_minor": 4
}
